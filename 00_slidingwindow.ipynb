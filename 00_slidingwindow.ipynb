{
 "cells": [
  {
   "cell_type": "code",
   "execution_count": null,
   "metadata": {},
   "outputs": [],
   "source": [
    "# default_exp slidingwindow"
   ]
  },
  {
   "cell_type": "markdown",
   "metadata": {},
   "source": [
    "# Sliding Window\n",
    "\n",
    "> Questions and Answers to Sliding Window questions"
   ]
  },
  {
   "cell_type": "code",
   "execution_count": null,
   "metadata": {},
   "outputs": [],
   "source": [
    "#hide\n",
    "from nbdev.showdoc import *"
   ]
  },
  {
   "cell_type": "markdown",
   "metadata": {},
   "source": [
    "## Maximum Sum Subarray of Size K\n",
    "\n",
    "> Given an array of positive numbers and a positive number 'k', find the maximum sum of any contiguous subarray of size 'k'."
   ]
  },
  {
   "cell_type": "code",
   "execution_count": null,
   "metadata": {},
   "outputs": [],
   "source": [
    "#export\n",
    "\n",
    "def naive_solution_to_max_sum_subarray_of_size_k(arr, k):\n",
    "    \"\"\"\n",
    "    Given an array of positive numbers and a positive\n",
    "    number 'k', find the maximum sum of any contiguous \n",
    "    subarray of size 'k'.\n",
    "    \"\"\"\n",
    "    max_sum = 0\n",
    "    for i in range(len(arr)-k+1):\n",
    "        _sum = 0\n",
    "        for j in range(i, i+k):\n",
    "            _sum += arr[j]\n",
    "        max_sum = max(_sum, max_sum)\n",
    "    return max_sum"
   ]
  },
  {
   "cell_type": "code",
   "execution_count": null,
   "metadata": {},
   "outputs": [],
   "source": [
    "arr = [2, 1, 5, 1, 3, 2]\n",
    "k = 3"
   ]
  },
  {
   "cell_type": "code",
   "execution_count": null,
   "metadata": {},
   "outputs": [
    {
     "data": {
      "text/plain": [
       "9"
      ]
     },
     "execution_count": null,
     "metadata": {},
     "output_type": "execute_result"
    }
   ],
   "source": [
    "naive_solution_to_max_sum_subarray_of_size_k(arr, k)"
   ]
  },
  {
   "cell_type": "markdown",
   "metadata": {},
   "source": [
    "Time Complexity: O(N*K) <br>\n",
    "Space Complexity: O(1)"
   ]
  },
  {
   "cell_type": "code",
   "execution_count": null,
   "metadata": {},
   "outputs": [
    {
     "data": {
      "text/markdown": [
       "<h4 id=\"naive_solution_to_max_sum_subarray_of_size_k\" class=\"doc_header\"><code>naive_solution_to_max_sum_subarray_of_size_k</code><a href=\"__main__.py#L3\" class=\"source_link\" style=\"float:right\">[source]</a></h4>\n",
       "\n",
       "> <code>naive_solution_to_max_sum_subarray_of_size_k</code>(**`arr`**, **`k`**)\n",
       "\n",
       "Given an array of positive numbers and a positive\n",
       "number 'k', find the maximum sum of any contiguous \n",
       "subarray of size 'k'."
      ],
      "text/plain": [
       "<IPython.core.display.Markdown object>"
      ]
     },
     "metadata": {},
     "output_type": "display_data"
    }
   ],
   "source": [
    "show_doc(naive_solution_to_max_sum_subarray_of_size_k)"
   ]
  },
  {
   "cell_type": "code",
   "execution_count": null,
   "metadata": {},
   "outputs": [],
   "source": [
    "assert naive_solution_to_max_sum_subarray_of_size_k(arr, k) == 9"
   ]
  },
  {
   "cell_type": "markdown",
   "metadata": {},
   "source": [
    "Can we do better, in terms of time complexity? Yes, we can!"
   ]
  },
  {
   "cell_type": "code",
   "execution_count": null,
   "metadata": {},
   "outputs": [],
   "source": [
    "#export\n",
    "\n",
    "def optimal_solution_to_max_sum_subarray_of_size_k(arr, k):\n",
    "    \"\"\"\n",
    "    Given an array of positive numbers and a positive\n",
    "    number 'k', find the maximum sum of any contiguous \n",
    "    subarray of size 'k'.\n",
    "    \"\"\"\n",
    "    max_sum = 0\n",
    "    window_start = 0\n",
    "    window_sum = 0\n",
    "    for window_end in range(len(arr)):\n",
    "        window_sum += arr[window_end]\n",
    "        if window_end >= k - 1:\n",
    "            max_sum = max(max_sum, window_sum)\n",
    "            window_sum -= arr[window_start]\n",
    "            window_start += 1\n",
    "    return max_sum"
   ]
  },
  {
   "cell_type": "code",
   "execution_count": null,
   "metadata": {},
   "outputs": [],
   "source": [
    "arr = [2, 1, 5, 1, 3, 2]\n",
    "k = 3"
   ]
  },
  {
   "cell_type": "code",
   "execution_count": null,
   "metadata": {},
   "outputs": [
    {
     "data": {
      "text/plain": [
       "9"
      ]
     },
     "execution_count": null,
     "metadata": {},
     "output_type": "execute_result"
    }
   ],
   "source": [
    "optimal_solution_to_max_sum_subarray_of_size_k(arr, k)"
   ]
  },
  {
   "cell_type": "markdown",
   "metadata": {},
   "source": [
    "Time Complexity: O(N) <br>\n",
    "Space Complexity: O(1)"
   ]
  },
  {
   "cell_type": "code",
   "execution_count": null,
   "metadata": {},
   "outputs": [],
   "source": [
    "assert optimal_solution_to_max_sum_subarray_of_size_k(arr, k) == 9"
   ]
  },
  {
   "cell_type": "code",
   "execution_count": null,
   "metadata": {},
   "outputs": [],
   "source": []
  },
  {
   "cell_type": "markdown",
   "metadata": {},
   "source": [
    "## Smallest Subarray with a Greater Sum\n",
    "\n",
    "> Given an array of positive integers and a number 'S', find the length of the smallest contiguous subarray whose sum is greater than of equal to 'S'. Return 0 if no such subarray exists."
   ]
  },
  {
   "cell_type": "code",
   "execution_count": null,
   "metadata": {},
   "outputs": [],
   "source": [
    "# export \n",
    "\n",
    "def smallest_subarray_sum(arr, s):\n",
    "    \"\"\"\n",
    "    Given an array of positive integers and a number 'S', find the \n",
    "    length of the smallest contiguous subarray whose sum is greater \n",
    "    than of equal to 'S'. Return 0 if no such subarray exists.\n",
    "    \"\"\"\n",
    "    window_start = 0\n",
    "    window_sum = 0\n",
    "    min_length = float('inf')\n",
    "    for window_end in range(len(arr)):\n",
    "        window_sum += arr[window_end]\n",
    "        while window_sum >= s:\n",
    "            min_length = min(min_length, window_end-window_start+1)\n",
    "            window_sum -= arr[window_start]\n",
    "            window_start += 1\n",
    "    if min_length == float('inf'):\n",
    "        return 0\n",
    "    return min_length"
   ]
  },
  {
   "cell_type": "code",
   "execution_count": null,
   "metadata": {},
   "outputs": [],
   "source": [
    "arr = [2, 1, 5, 2, 3, 2]\n",
    "s = 7"
   ]
  },
  {
   "cell_type": "code",
   "execution_count": null,
   "metadata": {},
   "outputs": [
    {
     "data": {
      "text/plain": [
       "2"
      ]
     },
     "execution_count": null,
     "metadata": {},
     "output_type": "execute_result"
    }
   ],
   "source": [
    "smallest_subarray_sum(arr, s)"
   ]
  },
  {
   "cell_type": "markdown",
   "metadata": {},
   "source": [
    "Time Complexity: O(N) <br>\n",
    "Space Complexity: O(1)"
   ]
  },
  {
   "cell_type": "code",
   "execution_count": null,
   "metadata": {},
   "outputs": [],
   "source": [
    "assert smallest_subarray_sum(arr, s) == 2"
   ]
  },
  {
   "cell_type": "code",
   "execution_count": null,
   "metadata": {},
   "outputs": [],
   "source": []
  },
  {
   "cell_type": "markdown",
   "metadata": {},
   "source": [
    "## Longest Substring with Maximum K Distinct Characters\n",
    "\n",
    "> Given a string find the length of the longest substring in it with no more than K distinct characters."
   ]
  },
  {
   "cell_type": "code",
   "execution_count": null,
   "metadata": {},
   "outputs": [],
   "source": [
    "# export\n",
    "\n",
    "def longest_substring_with_k_distinct(s, k):\n",
    "    \"\"\"\n",
    "    Given a string find the length of the longest substring in it with no more than K distinct characters.\n",
    "    \"\"\"\n",
    "    char_freq = {}    \n",
    "    window_start = 0\n",
    "    max_length = float('-inf')\n",
    "    for window_end in range(len(s)):\n",
    "        char = s[window_end]\n",
    "        char_freq[char] = char_freq.get(char, 0) + 1\n",
    "        \n",
    "        while len(char_freq) > k :\n",
    "            char = s[window_start]\n",
    "            char_freq[char] -= 1\n",
    "            if char_freq[char] == 0:\n",
    "                del char_freq[char]\n",
    "            window_start += 1\n",
    "        \n",
    "        max_length = max(max_length, window_end-window_start+1)\n",
    "    return max_length"
   ]
  },
  {
   "cell_type": "code",
   "execution_count": null,
   "metadata": {},
   "outputs": [],
   "source": [
    "s = \"araaci\"\n",
    "k = 2"
   ]
  },
  {
   "cell_type": "code",
   "execution_count": null,
   "metadata": {},
   "outputs": [
    {
     "data": {
      "text/plain": [
       "4"
      ]
     },
     "execution_count": null,
     "metadata": {},
     "output_type": "execute_result"
    }
   ],
   "source": [
    "longest_substring_with_k_distinct(s, k)"
   ]
  },
  {
   "cell_type": "code",
   "execution_count": null,
   "metadata": {},
   "outputs": [],
   "source": [
    "assert longest_substring_with_k_distinct(s, k) == 4"
   ]
  },
  {
   "cell_type": "markdown",
   "metadata": {},
   "source": [
    "Time Complexity: O(N) <br>\n",
    "Space Complexity: O(K)"
   ]
  },
  {
   "cell_type": "markdown",
   "metadata": {},
   "source": [
    "## Fruit into Basket\n",
    "\n",
    "> You are visiting a farm to collect fruits. The farm has a single row of fruit trees. You will be given two baskets, and your goal is to pick as many fruits as possible to be placed in the given baskets.\n",
    "\n",
    "> You will be given an array of characters where each character represents a fruit tree. The farm has following restrictions:\n",
    "\n",
    "> Each basket can have only one type of fruit. There is no limit to how many fruit a basket can hold.\n",
    "  You can start with any tree, but you can’t skip a tree once you have started.\n",
    "  You will pick exactly one fruit from every tree until you cannot, i.e., you will stop when you have to pick from a third fruit type.\n",
    "\n",
    "> Write a function to return the maximum number of fruits in both baskets."
   ]
  },
  {
   "cell_type": "code",
   "execution_count": null,
   "metadata": {},
   "outputs": [],
   "source": [
    "# export\n",
    "\n",
    "def fruits_into_basket(fruits):\n",
    "    \"\"\"\n",
    "    Variation of longest substring with k distinct characters.\n",
    "    \"\"\"\n",
    "    char_freq = {}\n",
    "    window_start = 0\n",
    "    max_length = 0\n",
    "    for window_end in range(len(fruits)):\n",
    "        char = fruits[window_end]\n",
    "        char_freq[char] = char_freq.get(char, 0) + 1\n",
    "        while len(char_freq) > 2:\n",
    "            char = fruits[window_start]\n",
    "            char_freq[char] -= 1\n",
    "            if char_freq[char] == 0:\n",
    "                del char_freq[char]\n",
    "            window_start += 1\n",
    "        max_length = max(max_length, window_end-window_start+1)\n",
    "    return max_length"
   ]
  },
  {
   "cell_type": "code",
   "execution_count": null,
   "metadata": {},
   "outputs": [],
   "source": [
    "fruits = ['A', 'B', 'C', 'A', 'C']"
   ]
  },
  {
   "cell_type": "code",
   "execution_count": null,
   "metadata": {},
   "outputs": [
    {
     "data": {
      "text/plain": [
       "3"
      ]
     },
     "execution_count": null,
     "metadata": {},
     "output_type": "execute_result"
    }
   ],
   "source": [
    "fruits_into_basket(fruits)"
   ]
  },
  {
   "cell_type": "code",
   "execution_count": null,
   "metadata": {},
   "outputs": [],
   "source": [
    "assert fruits_into_basket(fruits) == 3"
   ]
  },
  {
   "cell_type": "code",
   "execution_count": null,
   "metadata": {},
   "outputs": [],
   "source": [
    "fruits = ['A', 'B', 'C', 'B', 'B', 'C']"
   ]
  },
  {
   "cell_type": "code",
   "execution_count": null,
   "metadata": {},
   "outputs": [
    {
     "data": {
      "text/plain": [
       "5"
      ]
     },
     "execution_count": null,
     "metadata": {},
     "output_type": "execute_result"
    }
   ],
   "source": [
    "fruits_into_basket(fruits)"
   ]
  },
  {
   "cell_type": "code",
   "execution_count": null,
   "metadata": {},
   "outputs": [],
   "source": [
    "assert fruits_into_basket(fruits) == 5"
   ]
  },
  {
   "cell_type": "markdown",
   "metadata": {},
   "source": [
    "Time Complexity: O(N) <br>\n",
    "Space Complexity: O(1)"
   ]
  },
  {
   "cell_type": "markdown",
   "metadata": {},
   "source": [
    "## Longest Substring with Distinct Characters\n",
    "\n",
    "> Given a string, find the length of the longest substring, which has all distinct characters."
   ]
  },
  {
   "cell_type": "code",
   "execution_count": null,
   "metadata": {},
   "outputs": [],
   "source": [
    "# export\n",
    "\n",
    "def longest_substring_with_distinct_char(s):\n",
    "    \"\"\"\n",
    "    Given a string, find the length of the longest substring, \n",
    "    which has all distinct characters.\n",
    "    \"\"\"\n",
    "    char_freq = {}\n",
    "    window_start = 0\n",
    "    max_length = float('-inf')\n",
    "    for window_end in range(len(s)):\n",
    "        char = s[window_end]\n",
    "        if char in char_freq:\n",
    "            window_start = max(window_start, char_freq[char]+1)\n",
    "        char_freq[char] = window_end\n",
    "        max_length = max(max_length, window_end-window_start+1)\n",
    "    return max_length"
   ]
  },
  {
   "cell_type": "code",
   "execution_count": null,
   "metadata": {},
   "outputs": [
    {
     "data": {
      "text/plain": [
       "3"
      ]
     },
     "execution_count": null,
     "metadata": {},
     "output_type": "execute_result"
    }
   ],
   "source": [
    "s = \"aabccbb\"\n",
    "longest_substring_with_distinct_char(s)"
   ]
  },
  {
   "cell_type": "code",
   "execution_count": null,
   "metadata": {},
   "outputs": [],
   "source": [
    "assert longest_substring_with_distinct_char(s) == 3"
   ]
  },
  {
   "cell_type": "markdown",
   "metadata": {},
   "source": [
    "Time Complexity: O(N) <br>\n",
    "Space Complexity: O(26) so O(1)"
   ]
  },
  {
   "cell_type": "markdown",
   "metadata": {},
   "source": [
    "## Longest Substring with Same Letters after Replacement\n",
    "\n",
    "> Given a string with lowercase letters only, if you are allowed to replace no more than k letters with any letter, find the length of the longest substring having the same letters after replacement."
   ]
  },
  {
   "cell_type": "code",
   "execution_count": null,
   "metadata": {},
   "outputs": [],
   "source": [
    "# export\n",
    "def length_of_longest_substring(s, k):\n",
    "    \"\"\"\n",
    "    Given a string with lowercase letters only, if you are allowed to replace no more \n",
    "    than k letters with any letter, find the length of the longest substring having \n",
    "    the same letters after replacement.\n",
    "    \"\"\"\n",
    "    char_freq = {}\n",
    "    window_start = 0\n",
    "    max_repeat_letter_count = 0\n",
    "    max_length = float('-inf')\n",
    "    for window_end in range(len(s)):\n",
    "        char = s[window_end]\n",
    "        char_freq[char] = char_freq.get(char, 0) + 1\n",
    "        max_repeat_letter_count = max(max_repeat_letter_count, char_freq[char])\n",
    "        \n",
    "        if window_end-window_start+1-max_repeat_letter_count > k:\n",
    "            char = s[window_start]\n",
    "            char_freq[char] -= 1\n",
    "            window_start += 1\n",
    "        \n",
    "        max_length = max(max_length, window_end-window_start+1)\n",
    "    return max_length"
   ]
  },
  {
   "cell_type": "code",
   "execution_count": null,
   "metadata": {},
   "outputs": [],
   "source": [
    "s = \"aabccbb\"\n",
    "k = 2"
   ]
  },
  {
   "cell_type": "code",
   "execution_count": null,
   "metadata": {},
   "outputs": [
    {
     "data": {
      "text/plain": [
       "5"
      ]
     },
     "execution_count": null,
     "metadata": {},
     "output_type": "execute_result"
    }
   ],
   "source": [
    "length_of_longest_substring(s, k)"
   ]
  },
  {
   "cell_type": "code",
   "execution_count": null,
   "metadata": {},
   "outputs": [],
   "source": [
    "assert length_of_longest_substring(s, k) == 5"
   ]
  },
  {
   "cell_type": "markdown",
   "metadata": {},
   "source": [
    "Time Complexity: O(N) <br>\n",
    "Space Complexity: O(26) so O(1)"
   ]
  },
  {
   "cell_type": "markdown",
   "metadata": {},
   "source": [
    "## Longest Substring with Ones after Replacement\n",
    "\n",
    "> Given an array containing 0s and 1s, if you are allowed to replace no more than ‘k’ 0s with 1s, find the length of the longest contiguous subarray having all 1s."
   ]
  },
  {
   "cell_type": "code",
   "execution_count": null,
   "metadata": {},
   "outputs": [],
   "source": [
    "# export\n",
    "\n",
    "def length_of_longest_substring(arr, k):\n",
    "    \"\"\"\n",
    "    Given an array containing 0s and 1s, if you are allowed to replace no \n",
    "    more than ‘k’ 0s with 1s, find the length of the longest contiguous subarray\n",
    "    having all 1s.\n",
    "    \"\"\"\n",
    "    window_start = 0\n",
    "    max_ones = 0\n",
    "    max_length = float('-inf')\n",
    "    for window_end in range(len(arr)):\n",
    "        if arr[window_end] == 1:\n",
    "            max_ones += 1\n",
    "        if window_end - window_start + 1 - max_ones > k:\n",
    "            if arr[window_start] == 1:\n",
    "                max_ones -= 1\n",
    "            window_start += 1\n",
    "        max_length = max(max_length, window_end-window_start+1)\n",
    "    return max_length"
   ]
  },
  {
   "cell_type": "code",
   "execution_count": null,
   "metadata": {},
   "outputs": [],
   "source": [
    "arr = [0, 1, 1, 0, 0, 0, 1, 1, 0, 1, 1]\n",
    "k = 2"
   ]
  },
  {
   "cell_type": "code",
   "execution_count": null,
   "metadata": {},
   "outputs": [
    {
     "data": {
      "text/plain": [
       "6"
      ]
     },
     "execution_count": null,
     "metadata": {},
     "output_type": "execute_result"
    }
   ],
   "source": [
    "length_of_longest_substring(arr, k)"
   ]
  },
  {
   "cell_type": "code",
   "execution_count": null,
   "metadata": {},
   "outputs": [],
   "source": [
    "assert length_of_longest_substring(arr, k) == 6"
   ]
  },
  {
   "cell_type": "markdown",
   "metadata": {},
   "source": [
    "Time Complexity: O(N) <br>\n",
    "Space Complexity: O(1)"
   ]
  },
  {
   "cell_type": "markdown",
   "metadata": {},
   "source": [
    "## Permutation in a String\n",
    "\n",
    "> Given a string and a pattern, find out if the string contains any permutation of the pattern.\n",
    "\n",
    "> Permutation is defined as the re-arranging of the characters of the string. For example, “abc” has the following six permutations:\n",
    "\n",
    ">    abc\n",
    "     acb\n",
    "     bac\n",
    "     bca\n",
    "     cab\n",
    "     cba\n",
    "\n",
    "> If a string has ‘n’ distinct characters, it will have n!n!n! permutations."
   ]
  },
  {
   "cell_type": "code",
   "execution_count": null,
   "metadata": {},
   "outputs": [],
   "source": [
    "# export\n",
    "\n",
    "def find_permutation(s, pattern):\n",
    "    char_freq = {}\n",
    "    for char in pattern:\n",
    "        char_freq[char] = char_freq.get(char, 0) + 1\n",
    "    \n",
    "    window_start = 0\n",
    "    matched = 0\n",
    "    for window_end in range(len(s)):\n",
    "        char = s[window_end]\n",
    "        if char in char_freq:\n",
    "            char_freq[char] -= 1\n",
    "            if char_freq[char] == 0:\n",
    "                matched += 1\n",
    "        if matched == len(char_freq):\n",
    "            return True\n",
    "    \n",
    "        if window_end >= len(pattern) - 1:\n",
    "            char = s[window_start]\n",
    "            window_start += 1\n",
    "            if char in char_freq:\n",
    "                if char_freq[char] == 0:\n",
    "                    matched -= 1\n",
    "                char_freq[char] += 1\n",
    "    return False"
   ]
  },
  {
   "cell_type": "code",
   "execution_count": null,
   "metadata": {},
   "outputs": [],
   "source": [
    "s = \"oidbcaf\"\n",
    "pattern = \"abc\""
   ]
  },
  {
   "cell_type": "code",
   "execution_count": null,
   "metadata": {},
   "outputs": [
    {
     "data": {
      "text/plain": [
       "True"
      ]
     },
     "execution_count": null,
     "metadata": {},
     "output_type": "execute_result"
    }
   ],
   "source": [
    "find_permutation(s, pattern)"
   ]
  },
  {
   "cell_type": "code",
   "execution_count": null,
   "metadata": {},
   "outputs": [],
   "source": [
    "assert find_permutation(s, pattern) == True"
   ]
  },
  {
   "cell_type": "markdown",
   "metadata": {},
   "source": [
    "Time Complexity: O(N+M) <br>\n",
    "Space Complexity: O(M)\n",
    "\n",
    "where N and M are the number of characters in the input string and pattern, respectively."
   ]
  },
  {
   "cell_type": "markdown",
   "metadata": {},
   "source": [
    "## String Anagrams\n",
    "\n",
    "> Given a string and a pattern, find all anagrams of the pattern in the given string.\n",
    "\n",
    "> Every anagram is a permutation of a string. As we know, when we are not allowed to repeat characters while finding permutations of a string, we get N!N!N! permutations (or anagrams) of a string having NNN characters. For example, here are the six anagrams of the string “abc”:\n",
    "\n",
    ">    abc\n",
    "     acb\n",
    "     bac\n",
    "     bca\n",
    "     cab\n",
    "     cba\n",
    "\n",
    "> Write a function to return a list of starting indices of the anagrams of the pattern in the given string."
   ]
  },
  {
   "cell_type": "code",
   "execution_count": null,
   "metadata": {},
   "outputs": [],
   "source": [
    "# export\n",
    "\n",
    "def find_string_anagrams(s, pattern):\n",
    "    char_freq = {}\n",
    "    for char in pattern:\n",
    "        char_freq[char] = char_freq.get(char, 0) + 1\n",
    "    \n",
    "    window_start = 0\n",
    "    matched = 0\n",
    "    result_indices = []\n",
    "    for window_end in range(len(s)):\n",
    "        char = s[window_end]\n",
    "        if char in char_freq:\n",
    "            char_freq[char] -= 1\n",
    "            if char_freq[char] == 0:\n",
    "                matched += 1\n",
    "        \n",
    "        if matched == len(char_freq):\n",
    "            result_indices.append(window_start)\n",
    "        \n",
    "        if window_end >= len(pattern) - 1:\n",
    "            char = s[window_start]\n",
    "            window_start += 1\n",
    "            if char in char_freq:\n",
    "                if char_freq[char] == 0:\n",
    "                    matched -= 1\n",
    "                char_freq[char] += 1\n",
    "    return result_indices"
   ]
  },
  {
   "cell_type": "code",
   "execution_count": null,
   "metadata": {},
   "outputs": [],
   "source": [
    "s = \"ppqp\"\n",
    "pattern = \"pq\""
   ]
  },
  {
   "cell_type": "code",
   "execution_count": null,
   "metadata": {},
   "outputs": [
    {
     "data": {
      "text/plain": [
       "[1, 2]"
      ]
     },
     "execution_count": null,
     "metadata": {},
     "output_type": "execute_result"
    }
   ],
   "source": [
    "find_string_anagrams(s, pattern)"
   ]
  },
  {
   "cell_type": "code",
   "execution_count": null,
   "metadata": {},
   "outputs": [],
   "source": [
    "assert find_string_anagrams(s, pattern) == [1, 2]"
   ]
  },
  {
   "cell_type": "markdown",
   "metadata": {},
   "source": [
    "Time Complexity: O(N+M) <br>\n",
    "Space Complexity: O(M) / O(N) worst case"
   ]
  },
  {
   "cell_type": "markdown",
   "metadata": {},
   "source": [
    "## Smallest Window containing Substring\n",
    "\n",
    "> Given a string and a pattern, find the smallest substring in the given string which has all the character occurrences of the given pattern."
   ]
  },
  {
   "cell_type": "code",
   "execution_count": null,
   "metadata": {},
   "outputs": [],
   "source": [
    "# export\n",
    "\n",
    "def find_substring(s, pattern):\n",
    "    char_freq = {}\n",
    "    for char in pattern:\n",
    "        char_freq[char] = char_freq.get(char, 0) + 1\n",
    "    \n",
    "    window_start = 0\n",
    "    substr_start = 0\n",
    "    min_length = len(s) + 1\n",
    "    matched = 0\n",
    "    for window_end in range(len(s)):\n",
    "        char = s[window_end]\n",
    "        if char in char_freq:\n",
    "            char_freq[char] -= 1\n",
    "            if char_freq[char] >= 0:\n",
    "                matched += 1\n",
    "        \n",
    "        while matched == len(pattern):\n",
    "            if min_length > window_end - window_start + 1:\n",
    "                min_length = min(min_length, window_end-window_start+1)\n",
    "                substr_start = window_start\n",
    "            \n",
    "            char = s[window_start]\n",
    "            window_start += 1\n",
    "            if char in char_freq:\n",
    "                if char_freq[char] == 0:\n",
    "                    matched -= 1\n",
    "                char_freq[char] += 1\n",
    "    if min_length > len(s):\n",
    "        return \"\"\n",
    "    return s[substr_start:substr_start+min_length]"
   ]
  },
  {
   "cell_type": "code",
   "execution_count": null,
   "metadata": {},
   "outputs": [],
   "source": [
    "s = \"aabdec\"\n",
    "pattern = \"abc\""
   ]
  },
  {
   "cell_type": "code",
   "execution_count": null,
   "metadata": {},
   "outputs": [
    {
     "data": {
      "text/plain": [
       "'abdec'"
      ]
     },
     "execution_count": null,
     "metadata": {},
     "output_type": "execute_result"
    }
   ],
   "source": [
    "find_substring(s, pattern)"
   ]
  },
  {
   "cell_type": "code",
   "execution_count": null,
   "metadata": {},
   "outputs": [],
   "source": [
    "assert find_substring(s, pattern) == 'abdec'"
   ]
  },
  {
   "cell_type": "markdown",
   "metadata": {},
   "source": [
    "Time Complexity: O(N+M) <br>\n",
    "Space Complexity: O(M)"
   ]
  },
  {
   "cell_type": "markdown",
   "metadata": {},
   "source": [
    "## Word Concatentation\n",
    "\n",
    "> Given a string and a list of words, find all the starting indices of substrings in the given string that are a concatenation of all the given words exactly once without any overlapping of words. It is given that all words are of the same length."
   ]
  },
  {
   "cell_type": "code",
   "execution_count": null,
   "metadata": {},
   "outputs": [],
   "source": [
    "# export\n",
    "\n",
    "def find_word_concatenation(s, words):\n",
    "    result_indices = []\n",
    "    \n",
    "    if len(words) == 0 or len(words[0]) == 0:\n",
    "        return []\n",
    "\n",
    "    word_freq = {}\n",
    "    for word in words:\n",
    "        word_freq[word] = word_freq.get(word, 0) + 1\n",
    "\n",
    "    words_count = len(words)\n",
    "    word_length = len(words[0])\n",
    "    \n",
    "    for i in range((len(s)-words_count*word_length)+1):\n",
    "        words_seen = {}\n",
    "        for j in range(0, word_length):\n",
    "            next_word_idx = i + j * word_length\n",
    "            word = s[next_word_idx:next_word_idx+word_length]\n",
    "            if word not in word_freq:\n",
    "                break\n",
    "            words_seen[word] = words_seen.get(word, 0) + 1\n",
    "            if words_seen[word] > word_freq.get(word, 0):\n",
    "                break\n",
    "            if j + 1 == words_count:\n",
    "                result_indices.append(i)\n",
    "    return result_indices"
   ]
  },
  {
   "cell_type": "code",
   "execution_count": null,
   "metadata": {},
   "outputs": [],
   "source": [
    "s = \"catfoxcat\"\n",
    "words = [\"cat\", \"fox\"]"
   ]
  },
  {
   "cell_type": "code",
   "execution_count": null,
   "metadata": {},
   "outputs": [
    {
     "data": {
      "text/plain": [
       "[0, 3]"
      ]
     },
     "execution_count": null,
     "metadata": {},
     "output_type": "execute_result"
    }
   ],
   "source": [
    "find_word_concatenation(s, words)"
   ]
  },
  {
   "cell_type": "code",
   "execution_count": null,
   "metadata": {},
   "outputs": [],
   "source": [
    "assert find_word_concatenation(s, words) == [0, 3]"
   ]
  },
  {
   "cell_type": "markdown",
   "metadata": {},
   "source": [
    "Time Complexity: O(N * M * Len)\n",
    "Space Complexity: (N+M)\n",
    "\n",
    "where N is the number of characters, M is the total number of words, and Len is the length of a word.  <br>\n",
    "O(M) storing all the words in two hashmaps, O(N) space for the resulting list."
   ]
  },
  {
   "cell_type": "code",
   "execution_count": null,
   "metadata": {},
   "outputs": [],
   "source": []
  },
  {
   "cell_type": "code",
   "execution_count": null,
   "metadata": {},
   "outputs": [],
   "source": []
  },
  {
   "cell_type": "code",
   "execution_count": null,
   "metadata": {},
   "outputs": [],
   "source": []
  },
  {
   "cell_type": "code",
   "execution_count": null,
   "metadata": {},
   "outputs": [],
   "source": []
  },
  {
   "cell_type": "code",
   "execution_count": null,
   "metadata": {},
   "outputs": [],
   "source": []
  },
  {
   "cell_type": "code",
   "execution_count": null,
   "metadata": {},
   "outputs": [],
   "source": []
  }
 ],
 "metadata": {
  "kernelspec": {
   "display_name": "Python 3 (ipykernel)",
   "language": "python",
   "name": "python3"
  }
 },
 "nbformat": 4,
 "nbformat_minor": 4
}
